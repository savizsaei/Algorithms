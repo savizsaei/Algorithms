{
 "cells": [
  {
   "cell_type": "code",
   "execution_count": 12,
   "id": "b8b1ea7b",
   "metadata": {},
   "outputs": [
    {
     "name": "stdout",
     "output_type": "stream",
     "text": [
      "e\n"
     ]
    }
   ],
   "source": [
    "class Solution(object):\n",
    "    def findTheDifference(self, s, t):\n",
    "        \"\"\"\n",
    "        :type s: str\n",
    "        :type t: str\n",
    "        :rtype: str\n",
    "        \"\"\"\n",
    "        for i in range(len(s)):\n",
    "            if s[i] != t[i]:\n",
    "                return t[i]\n",
    "        # If no difference is found, the extra character is the last one in t\n",
    "        return t[-1]\n",
    "\n",
    "if __name__ == \"__main__\":\n",
    "    sol = Solution()\n",
    "    print(sol.findTheDifference(\"abcd\", \"abcde\"))"
   ]
  },
  {
   "cell_type": "code",
   "execution_count": 46,
   "id": "18a77a2d",
   "metadata": {},
   "outputs": [
    {
     "name": "stdout",
     "output_type": "stream",
     "text": [
      "[0, 6]\n"
     ]
    }
   ],
   "source": [
    "class Solution(object):\n",
    "    def strStr(self, haystack, needle):\n",
    "        \"\"\"\n",
    "        :type haystack: str\n",
    "        :type needle: str\n",
    "        :rtype: List[int]\n",
    "        \"\"\"\n",
    "        if not needle:\n",
    "            return []  # If needle is empty, return an empty list\n",
    "\n",
    "        indices = []\n",
    "        for i in range(len(haystack) - len(needle) + 1):\n",
    "            if haystack[i:i+len(needle)] == needle:\n",
    "                indices.append(i)\n",
    "\n",
    "        return indices  # Return all matching indices\n",
    "\n",
    "if __name__ == '__main__':\n",
    "    sol = Solution()\n",
    "    print(sol.strStr(\"sadbutsad\", \"sad\"))"
   ]
  },
  {
   "cell_type": "code",
   "execution_count": 50,
   "id": "91cd7330",
   "metadata": {},
   "outputs": [
    {
     "name": "stdout",
     "output_type": "stream",
     "text": [
      "True\n"
     ]
    }
   ],
   "source": [
    "class Solution(object):\n",
    "    def isAnagram(self, s, t):\n",
    "        \"\"\"\n",
    "        :type s: str\n",
    "        :type t: str\n",
    "        :rtype: bool\n",
    "        \"\"\"\n",
    "        for i in range(len(s)):\n",
    "            if s[i:]==t[i:]:\n",
    "                return True\n",
    "\n",
    "        return False\n",
    "\n",
    "\n",
    "if __name__==\"__main__\":\n",
    "    sol=Solution()\n",
    "    print(sol.isAnagram(\"anagram\",\"nagaram\"))\n"
   ]
  },
  {
   "cell_type": "code",
   "execution_count": 1,
   "id": "73c0f344",
   "metadata": {},
   "outputs": [
    {
     "name": "stdout",
     "output_type": "stream",
     "text": [
      "True\n"
     ]
    }
   ],
   "source": [
    "class Solution(object):\n",
    "    def repeatedSubstringPattern(self, s):\n",
    "        \"\"\"\n",
    "        :type s: str\n",
    "        :rtype: bool\n",
    "        \"\"\"\n",
    "        n = len(s)\n",
    "        for i in range(1, n // 2 + 1):  # Check substrings of length 1 to n/2\n",
    "            if n % i == 0:  # The length of s must be divisible by the substring length\n",
    "                if s[:i] * (n // i) == s:\n",
    "                    return True\n",
    "        return False\n",
    "\n",
    "if __name__ == \"__main__\":\n",
    "    sol = Solution()\n",
    "    print(sol.repeatedSubstringPattern(\"abab\"))"
   ]
  }
 ],
 "metadata": {
  "kernelspec": {
   "display_name": "interviewenv",
   "language": "python",
   "name": "python3"
  },
  "language_info": {
   "codemirror_mode": {
    "name": "ipython",
    "version": 3
   },
   "file_extension": ".py",
   "mimetype": "text/x-python",
   "name": "python",
   "nbconvert_exporter": "python",
   "pygments_lexer": "ipython3",
   "version": "3.13.2"
  }
 },
 "nbformat": 4,
 "nbformat_minor": 5
}
